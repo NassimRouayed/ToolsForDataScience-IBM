{
  "metadata": {
    "kernelspec": {
      "name": "python",
      "display_name": "Pyolite",
      "language": "python"
    },
    "language_info": {
      "codemirror_mode": {
        "name": "python",
        "version": 3
      },
      "file_extension": ".py",
      "mimetype": "text/x-python",
      "name": "python",
      "nbconvert_exporter": "python",
      "pygments_lexer": "ipython3",
      "version": "3.8"
    }
  },
  "nbformat_minor": 4,
  "nbformat": 4,
  "cells": [
    {
      "cell_type": "markdown",
      "source": "<center>\n    <img src=\"https://s3-api.us-geo.objectstorage.softlayer.net/cf-courses-data/CognitiveClass/Logos/organization_logo/organization_logo.png\" width=\"300\" alt=\"cognitiveclass.ai logo\"  />\n</center>\n",
      "metadata": {}
    },
    {
      "cell_type": "markdown",
      "source": "# My Jupyter Notebook on IBM Watson Studio",
      "metadata": {}
    },
    {
      "cell_type": "markdown",
      "source": "**My name is Nassim ROUAYED, I'm a second year bioinformatics engineer**",
      "metadata": {}
    },
    {
      "cell_type": "markdown",
      "source": "*I am interested in data science because the biology works with big data as a bioinformatician i need to manage the storage, the transfer, the access and analysis of that biological big data so we can tell the bioinformatics is a particular specialty within the broader field of data science*",
      "metadata": {}
    },
    {
      "cell_type": "markdown",
      "source": "### First it will display \"Hello Nassim\" then it will display in another line the result of x which is 9",
      "metadata": {}
    },
    {
      "cell_type": "code",
      "source": "print(\"Hello Nassim\")\nx = 3*3\nprint(x)",
      "metadata": {},
      "execution_count": null,
      "outputs": []
    },
    {
      "cell_type": "markdown",
      "source": "Fields:\n\n* Biotechnologie\n* Bioinformatics\n* Biochemistry\n\nNucleotides:\n\n1. A\n2. T\n3. C\n4. G\n\nLink:\n[NCBI](https://www.ncbi.nlm.nih.gov)",
      "metadata": {}
    }
  ]
}